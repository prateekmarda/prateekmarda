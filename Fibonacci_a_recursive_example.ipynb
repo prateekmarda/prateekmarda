{
  "nbformat": 4,
  "nbformat_minor": 0,
  "metadata": {
    "colab": {
      "provenance": [],
      "collapsed_sections": [],
      "authorship_tag": "ABX9TyPpuUaNGkx+BD1cN2QvusaJ",
      "include_colab_link": true
    },
    "kernelspec": {
      "name": "python3",
      "display_name": "Python 3"
    },
    "language_info": {
      "name": "python"
    }
  },
  "cells": [
    {
      "cell_type": "markdown",
      "metadata": {
        "id": "view-in-github",
        "colab_type": "text"
      },
      "source": [
        "<a href=\"https://colab.research.google.com/github/prateekmarda/prateekmarda/blob/main/Fibonacci_a_recursive_example.ipynb\" target=\"_parent\"><img src=\"https://colab.research.google.com/assets/colab-badge.svg\" alt=\"Open In Colab\"/></a>"
      ]
    },
    {
      "cell_type": "code",
      "execution_count": null,
      "metadata": {
        "id": "O29uuUDdKzwd"
      },
      "outputs": [],
      "source": [
        "def fibonacci(n):\n",
        "  if n == 1:\n",
        "    return 1\n",
        "  elif n == 2:\n",
        "    return 1\n",
        "  elif n > 2:\n",
        "    return fibonacci(n-2)+fibonacci(n-1)"
      ]
    },
    {
      "cell_type": "code",
      "source": [
        "for n in range(1,11):\n",
        "  print(n, \":\" , fibonacci(n))"
      ],
      "metadata": {
        "id": "7liBuaRuMUa3"
      },
      "execution_count": null,
      "outputs": []
    },
    {
      "cell_type": "markdown",
      "source": [
        "Above code will work for lesser values of n, if n increases to more than a couple of dozen numbers then the function will slow down so in order to speed up the calculations we should use cache(A.k.A Memoization)"
      ],
      "metadata": {
        "id": "eXG5P1QjP1Ec"
      }
    },
    {
      "cell_type": "code",
      "source": [
        "fibonacci_cache = {}\n",
        "\n",
        "def fibonacci(n):\n",
        "  #if we have cached the value then return it\n",
        "  if n in fibonacci_cache:\n",
        "    return fibonacci_cache[n]\n",
        "\n",
        "  #compute n'th term\n",
        "  if n == 1:\n",
        "    value = 1\n",
        "  elif n == 2:\n",
        "    value = 1\n",
        "  elif n > 2:\n",
        "    value = fibonacci(n-1) + fibonacci(n-2)\n",
        "\n",
        "  #cache the value and then return it\n",
        "  fibonacci_cache[n] = value\n",
        "  return value\n",
        "\n",
        "for n in range(1,101):\n",
        "  print(n, \":\", fibonacci(n))\n"
      ],
      "metadata": {
        "id": "65y8zocuNLA7"
      },
      "execution_count": null,
      "outputs": []
    },
    {
      "cell_type": "markdown",
      "source": [
        "The above technique is indirect implementation, we. can also use the inbuilt packages for implementing memoization as shown below:"
      ],
      "metadata": {
        "id": "xSXTv40OTrZq"
      }
    },
    {
      "cell_type": "code",
      "source": [
        "from functools import lru_cache\n",
        "\n",
        "@lru_cache(maxsize = 1000)\n",
        "def fibonacci(n):\n",
        "  if n == 1:\n",
        "    return 1\n",
        "  elif n == 2:\n",
        "    return 1\n",
        "  elif n > 2:\n",
        "    return fibonacci(n-2)+fibonacci(n-1)\n",
        "\n",
        "for n in range(1,101):\n",
        "  print (n,\":\",fibonacci(n))"
      ],
      "metadata": {
        "id": "K6LI7kHYTqSZ"
      },
      "execution_count": null,
      "outputs": []
    },
    {
      "cell_type": "markdown",
      "source": [
        "The function still needs to show someoutput when non integer values are passed for n, the error handling can be done as below:"
      ],
      "metadata": {
        "id": "RynFpv-pYghP"
      }
    },
    {
      "cell_type": "code",
      "source": [
        "from functools import lru_cache\n",
        "\n",
        "@lru_cache(maxsize = 1000)\n",
        "def fibonacci(n):\n",
        "  if type(n) != int or n < 1:\n",
        "    raise TypeError(\"n must be positive integer.\") \n",
        "  if n == 1:\n",
        "    return 1\n",
        "  elif n == 2:\n",
        "    return 1\n",
        "  elif n > 2:\n",
        "    return fibonacci(n-2)+fibonacci(n-1)\n",
        "\n",
        "print(fibonacci(21))"
      ],
      "metadata": {
        "id": "ySjqNHqKXujl"
      },
      "execution_count": null,
      "outputs": []
    }
  ]
}